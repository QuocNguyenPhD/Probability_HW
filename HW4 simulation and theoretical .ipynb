{
 "cells": [
  {
   "cell_type": "markdown",
   "id": "47160985",
   "metadata": {},
   "source": [
    "## simulation 1"
   ]
  },
  {
   "cell_type": "code",
   "execution_count": null,
   "id": "cc4faec8",
   "metadata": {},
   "outputs": [],
   "source": [
    "import numpy as np\n",
    "import matplotlib.pyplot as plt\n",
    "\n",
    "rate=0.5 # rate of arrival\n",
    "mu=1.5 # waiting time\n",
    "\n",
    "\n",
    "Sn=[] # Vector that store Sn which is the time arrival for nth car\n",
    "\n",
    "\n",
    "TV=[] # Vector that store TV which is the interarrival time\n",
    "\n",
    "\n",
    "for j in range(4900):\n",
    "    T=[] # vector that store random exponential distribution for inter\n",
    "    S=[]\n",
    "    for i in range(2000):\n",
    "        \n",
    "        T.append(np.random.exponential(scale= 1/rate))\n",
    "        S.append(sum(T))\n",
    "    \n",
    "    TV.append(T)\n",
    "    Sn.append(S)  "
   ]
  },
  {
   "cell_type": "markdown",
   "id": "67102fea",
   "metadata": {},
   "source": [
    "## simulation 2"
   ]
  },
  {
   "cell_type": "code",
   "execution_count": null,
   "id": "8211c131",
   "metadata": {},
   "outputs": [],
   "source": [
    "\n",
    "waitV=[] # vector that hold wait time\n",
    "\n",
    "for i in range(len(Sn)):\n",
    "\n",
    "    wait=[]\n",
    "\n",
    "    \n",
    "    wait.append(0)\n",
    "    for j in range(len(Sn[0])-1):        \n",
    "        \n",
    "        if Sn[i][j+1]<(Sn[i][j]+mu+wait[j]):\n",
    "            wait.append(Sn[i][j]+mu-Sn[i][j+1]+wait[j])\n",
    "\n",
    "        else:\n",
    "            wait.append(0)\n",
    "\n",
    "    waitV.append(wait)"
   ]
  },
  {
   "cell_type": "code",
   "execution_count": null,
   "id": "8c0d20a5",
   "metadata": {},
   "outputs": [],
   "source": [
    "exitV= np.array(waitV)+np.array(Sn)+1.5  # generating exit time for each vehicle"
   ]
  },
  {
   "cell_type": "code",
   "execution_count": null,
   "id": "1162a838",
   "metadata": {},
   "outputs": [],
   "source": [
    "QV= np.ceil(np.array(waitV)/1.5) # generating car count for the quere"
   ]
  },
  {
   "cell_type": "markdown",
   "id": "bf332e58",
   "metadata": {},
   "source": [
    "## simulation 3"
   ]
  },
  {
   "cell_type": "code",
   "execution_count": null,
   "id": "7c5a3136",
   "metadata": {},
   "outputs": [],
   "source": [
    "mQ= [np.mean(QV[i]) for i in range(len(QV))]\n",
    "stQ= [np.std(QV[i]) for i in range(len(QV))]"
   ]
  },
  {
   "cell_type": "code",
   "execution_count": null,
   "id": "ab7e63a7",
   "metadata": {},
   "outputs": [],
   "source": [
    "plt.plot(range(len(QV)),mQ)\n",
    "plt.plot(range(len(QV)), np.array(mQ)+np.array(stQ))\n",
    "plt.plot(range(len(QV)), np.array(mQ)-np.array(stQ))\n"
   ]
  },
  {
   "cell_type": "markdown",
   "id": "40529467",
   "metadata": {},
   "source": [
    "## Simulation 4"
   ]
  },
  {
   "cell_type": "code",
   "execution_count": null,
   "id": "f2c6c76c",
   "metadata": {},
   "outputs": [],
   "source": [
    "mwaitV= [np.mean(waitV[i]) for i in range(len(waitV))]\n",
    "stwaitV= [np.std(waitV[i]) for i in range(len(waitV))]\n"
   ]
  },
  {
   "cell_type": "code",
   "execution_count": null,
   "id": "3897db31",
   "metadata": {
    "scrolled": true
   },
   "outputs": [],
   "source": [
    "plt.plot(range(len(QV)),mwaitV)\n",
    "plt.plot(range(len(QV)), np.array(mwaitV)+np.array(stwaitV))\n",
    "plt.plot(range(len(QV)), np.array(mwaitV)-np.array(stwaitV))\n"
   ]
  },
  {
   "cell_type": "markdown",
   "id": "0c2a4a8e",
   "metadata": {},
   "source": [
    "## simulation 5"
   ]
  },
  {
   "cell_type": "code",
   "execution_count": null,
   "id": "709c0a30",
   "metadata": {
    "scrolled": true
   },
   "outputs": [],
   "source": []
  },
  {
   "cell_type": "code",
   "execution_count": null,
   "id": "024396ba",
   "metadata": {},
   "outputs": [],
   "source": []
  }
 ],
 "metadata": {
  "kernelspec": {
   "display_name": "Python 3 (ipykernel)",
   "language": "python",
   "name": "python3"
  },
  "language_info": {
   "codemirror_mode": {
    "name": "ipython",
    "version": 3
   },
   "file_extension": ".py",
   "mimetype": "text/x-python",
   "name": "python",
   "nbconvert_exporter": "python",
   "pygments_lexer": "ipython3",
   "version": "3.9.7"
  }
 },
 "nbformat": 4,
 "nbformat_minor": 5
}
