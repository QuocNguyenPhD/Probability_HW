{
 "cells": [
  {
   "cell_type": "code",
   "execution_count": 13,
   "id": "e7c1b9fb-ef84-4a98-b19b-c1774ed90afa",
   "metadata": {
    "collapsed": true,
    "jupyter": {
     "outputs_hidden": true
    },
    "tags": []
   },
   "outputs": [
    {
     "ename": "OverflowError",
     "evalue": "math range error",
     "output_type": "error",
     "traceback": [
      "\u001b[1;31m---------------------------------------------------------------------------\u001b[0m",
      "\u001b[1;31mOverflowError\u001b[0m                             Traceback (most recent call last)",
      "Cell \u001b[1;32mIn[13], line 36\u001b[0m\n\u001b[0;32m     34\u001b[0m         \u001b[38;5;28;01mfor\u001b[39;00m x3 \u001b[38;5;129;01min\u001b[39;00m \u001b[38;5;28mrange\u001b[39m(\u001b[38;5;28mint\u001b[39m(\u001b[38;5;241m0.43\u001b[39m \u001b[38;5;241m*\u001b[39m \u001b[38;5;241m500\u001b[39m), \u001b[38;5;241m500\u001b[39m \u001b[38;5;241m+\u001b[39m \u001b[38;5;241m1\u001b[39m):\n\u001b[0;32m     35\u001b[0m             lgc \u001b[38;5;241m=\u001b[39m lg_coeff(x1, x2)\n\u001b[1;32m---> 36\u001b[0m             term \u001b[38;5;241m=\u001b[39m math\u001b[38;5;241m.\u001b[39mexp(lgc)\n\u001b[0;32m     37\u001b[0m             Pa \u001b[38;5;241m+\u001b[39m\u001b[38;5;241m=\u001b[39m term\n\u001b[0;32m     39\u001b[0m \u001b[38;5;66;03m# Record the end time\u001b[39;00m\n",
      "\u001b[1;31mOverflowError\u001b[0m: math range error"
     ]
    }
   ],
   "source": [
    "import time\n",
    "import math\n",
    "\n",
    "def lg_term(x1, x2):\n",
    "    if x1==0 and x2==0:\n",
    "        lnc = 0\n",
    "    elif x1==0:\n",
    "        lnc =  0.5 * math.log(500 / (x2 * (500 - x2))) \\\n",
    "            - 0.5 * math.log(2 * math.pi) - 2 * (x2) \\\n",
    "            + 500 * math.log(500 * (500 - x2)) \\\n",
    "            + x2 * math.log((500 - x2) / x2)\n",
    "    elif x2==0:\n",
    "        lnc =  0.5 * math.log(500 / (x1 * (500 - x1))) \\\n",
    "            - 0.5 * math.log(2 * math.pi) - 2 * (x1) \\\n",
    "            + 500 * math.log(500 * (500 - x1)) \\\n",
    "            + x1 * math.log((500 - x1) / x1)    \n",
    "    else:\n",
    "        lnc =  -500 + x1 + x2 + \\\n",
    "            (0.5 + 500) * math.log(500) - \\\n",
    "            1.0 * (0.5 + x1) * math.log(x1) - \\\n",
    "            0.5 * math.log(x2) - \\\n",
    "            x2 * math.log(x2) - \\\n",
    "            0.5 * math.log(2 * math.pi) \\\n",
    "    result = lnc + x1 * math.log(0.18) + x2 * math.log(0.42) + (500-x1-x2) * math.log(0.4)\n",
    "    return result\n",
    "\n",
    "\n",
    "# Record the start time\n",
    "start_time = time.time()\n",
    "\n",
    "# Calculate the sum\n",
    "Pa = 0\n",
    "for x1 in range(0, int(0.15 * 500) + 1):\n",
    "    for x2 in range(0, int(0.4 * 500) + 1):\n",
    "        for x3 in range(int(0.43 * 500), 500 + 1):\n",
    "            lgc = lg_term(x1, x2)\n",
    "            term = math.exp(lgc)\n",
    "            Pa += term\n",
    "\n",
    "# Record the end time\n",
    "end_time = time.time()\n",
    "\n",
    "# Calculate the total computing time\n",
    "computing_time = end_time - start_time\n",
    "\n",
    "#Results\n",
    "print(Pa) \n",
    "print(computing_time)"
   ]
  },
  {
   "cell_type": "code",
   "execution_count": null,
   "id": "79159385-9a08-48e0-a0ab-7b3eff075e79",
   "metadata": {},
   "outputs": [],
   "source": []
  }
 ],
 "metadata": {
  "kernelspec": {
   "display_name": "Python 3 (ipykernel)",
   "language": "python",
   "name": "python3"
  },
  "language_info": {
   "codemirror_mode": {
    "name": "ipython",
    "version": 3
   },
   "file_extension": ".py",
   "mimetype": "text/x-python",
   "name": "python",
   "nbconvert_exporter": "python",
   "pygments_lexer": "ipython3",
   "version": "3.11.4"
  }
 },
 "nbformat": 4,
 "nbformat_minor": 5
}
