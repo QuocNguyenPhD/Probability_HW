{
 "cells": [
  {
   "cell_type": "markdown",
   "id": "fcfac482",
   "metadata": {},
   "source": [
    "## 3.1"
   ]
  },
  {
   "cell_type": "code",
   "execution_count": 71,
   "id": "9bd2a953",
   "metadata": {},
   "outputs": [],
   "source": [
    "import matplotlib.pyplot as plt\n",
    "import numpy as np\n",
    "import random\n",
    "\n",
    "\n",
    "lamda=1/10"
   ]
  },
  {
   "cell_type": "code",
   "execution_count": 99,
   "id": "d791c609",
   "metadata": {
    "scrolled": true
   },
   "outputs": [],
   "source": [
    "\n",
    "\n",
    "# Simulation of total time for n birth simulated for 10000 time\n",
    "Tn=[]\n",
    "\n",
    "\n",
    "for k in range(10000):\n",
    "    # total time with  amount of birth\n",
    "    T=[]\n",
    "    T.append(0)\n",
    "\n",
    "    Wn=np.random.exponential(scale=lamda, size=500)\n",
    "    \n",
    "    for i, j in enumerate(Wn):\n",
    "        T.append(j+T[i])\n",
    "    \n",
    "    Tn.append(T)\n",
    "    "
   ]
  },
  {
   "cell_type": "code",
   "execution_count": 109,
   "id": "f5815476",
   "metadata": {},
   "outputs": [
    {
     "data": {
      "text/plain": [
       "Text(0.5, 1.0, 'Histogram for T_5')"
      ]
     },
     "execution_count": 109,
     "metadata": {},
     "output_type": "execute_result"
    },
    {
     "data": {
      "image/png": "[encoded data removed]",
      "text/plain": [
       "<Figure size 432x288 with 1 Axes>"
      ]
     },
     "metadata": {
      "needs_background": "light"
     },
     "output_type": "display_data"
    }
   ],
   "source": [
    "#histogram for T_5\n",
    "\n",
    "plt.hist(Tn[:][4])\n",
    "plt.title(\"Histogram for T_5\")"
   ]
  },
  {
   "cell_type": "code",
   "execution_count": 110,
   "id": "33d3eb80",
   "metadata": {},
   "outputs": [
    {
     "data": {
      "text/plain": [
       "Text(0.5, 1.0, 'Histogram for T_10')"
      ]
     },
     "execution_count": 110,
     "metadata": {},
     "output_type": "execute_result"
    },
    {
     "data": {
      "image/png": "[encoded data removed]",
      "text/plain": [
       "<Figure size 432x288 with 1 Axes>"
      ]
     },
     "metadata": {
      "needs_background": "light"
     },
     "output_type": "display_data"
    }
   ],
   "source": [
    "# histogram for T_10\n",
    "\n",
    "plt.hist(Tn[:][9])\n",
    "plt.title(\"Histogram for T_10\")"
   ]
  },
  {
   "cell_type": "markdown",
   "id": "d1be5640",
   "metadata": {},
   "source": [
    "## 3.2"
   ]
  },
  {
   "cell_type": "code",
   "execution_count": 139,
   "id": "bc1ffb5b",
   "metadata": {},
   "outputs": [],
   "source": [
    "#Generating random data point for life span distribution\n",
    "Xn=[]\n",
    "Xn.append\n",
    "for i in range(10000):\n",
    "    X= [-20*np.log((20-random.random()*(20-20*np.exp(-3)))/20) for _ in range(501)]\n",
    "    Xn.append(X)\n"
   ]
  },
  {
   "cell_type": "code",
   "execution_count": 141,
   "id": "ed80e3d5",
   "metadata": {},
   "outputs": [
    {
     "data": {
      "text/plain": [
       "501"
      ]
     },
     "execution_count": 141,
     "metadata": {},
     "output_type": "execute_result"
    }
   ],
   "source": [
    "len(Xn[1])"
   ]
  }
 ],
 "metadata": {
  "kernelspec": {
   "display_name": "Python 3 (ipykernel)",
   "language": "python",
   "name": "python3"
  },
  "language_info": {
   "codemirror_mode": {
    "name": "ipython",
    "version": 3
   },
   "file_extension": ".py",
   "mimetype": "text/x-python",
   "name": "python",
   "nbconvert_exporter": "python",
   "pygments_lexer": "ipython3",
   "version": "3.9.7"
  }
 },
 "nbformat": 4,
 "nbformat_minor": 5
}
