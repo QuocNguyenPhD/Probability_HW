{
 "cells": [
  {
   "cell_type": "markdown",
   "id": "fd018677",
   "metadata": {},
   "source": [
    "# problem 1 by Quoc Nguyen (UHid:1787501)\n",
    "\n",
    "## 1.1"
   ]
  },
  {
   "cell_type": "code",
   "execution_count": 211,
   "id": "9b3decb6",
   "metadata": {},
   "outputs": [],
   "source": [
    "import numpy as np\n",
    "from scipy.linalg import null_space\n",
    "import matplotlib.pyplot as plt"
   ]
  },
  {
   "cell_type": "code",
   "execution_count": 245,
   "id": "a509b10a",
   "metadata": {},
   "outputs": [
    {
     "data": {
      "text/plain": [
       "matrix([[1, 2],\n",
       "        [3, 4]])"
      ]
     },
     "execution_count": 245,
     "metadata": {},
     "output_type": "execute_result"
    }
   ],
   "source": [
    "np.matrix([[1,2],[3,4]])"
   ]
  },
  {
   "cell_type": "code",
   "execution_count": 248,
   "id": "089b9053",
   "metadata": {},
   "outputs": [
    {
     "data": {
      "text/plain": [
       "array([3, 7])"
      ]
     },
     "execution_count": 248,
     "metadata": {},
     "output_type": "execute_result"
    }
   ],
   "source": [
    "np.sum(np.array([[1,2],[3,4]]), axis=1)"
   ]
  },
  {
   "cell_type": "code",
   "execution_count": 257,
   "id": "9ca75d26",
   "metadata": {},
   "outputs": [
    {
     "data": {
      "text/plain": [
       "array([9.93587801e-03, 1.93856095e-02, 3.70148617e-02, 9.73428685e-03,\n",
       "       5.33768928e-03, 3.23796577e-02, 1.06470640e-02, 2.64863353e-02,\n",
       "       1.27945576e-04, 2.95267930e-02, 2.04482042e-02, 1.62608982e-02,\n",
       "       2.13258095e-02, 3.45665052e-02, 2.09915639e-02, 3.01389212e-02,\n",
       "       2.39804602e-02, 2.17990702e-02, 3.89123395e-02, 5.84975266e-05,\n",
       "       1.31023027e-02, 3.23843009e-03, 2.59703011e-02, 1.28613569e-02,\n",
       "       2.71536865e-03, 1.67400389e-02, 3.71313789e-02, 3.08467273e-02,\n",
       "       3.50573242e-02, 1.09814522e-02, 3.68783108e-02, 1.06924282e-02,\n",
       "       3.38840934e-02, 5.46410225e-03, 8.50267115e-03, 1.97574150e-02,\n",
       "       9.84947913e-03, 9.04688442e-04, 3.95936792e-02, 2.33437394e-02,\n",
       "       1.43339990e-02, 1.49265697e-02, 1.47580449e-02, 1.30309339e-02,\n",
       "       2.71399309e-02, 2.55284392e-02, 1.21538398e-02, 3.69832350e-02,\n",
       "       3.37964818e-02, 2.07748474e-02])"
      ]
     },
     "execution_count": 257,
     "metadata": {},
     "output_type": "execute_result"
    }
   ],
   "source": [
    "A[1]/s[1]"
   ]
  },
  {
   "cell_type": "code",
   "execution_count": 251,
   "id": "0283323c",
   "metadata": {},
   "outputs": [],
   "source": [
    "A=np.random.uniform(0,1,size=(50,50))\n",
    "s=np.sum(A, axis=1)\n",
    "Q=[list(A[i]/s[i]) for i in range(len(A))]"
   ]
  },
  {
   "cell_type": "markdown",
   "id": "77c190af",
   "metadata": {},
   "source": [
    "## 1.2\n",
    "\n",
    "Q is aperiodic since the $GCD(n| P_{ii})> 0)=1$\n",
    "\n",
    "Moreover, Q is irreducible since all entry of Q is not 0\n",
    "\n",
    "statationalry state\n",
    "\n",
    "$Qx=x$ hence $(Q-I)x=0$ and $\\displaystyle\\sum^{50}_{i=1} x_i=1$"
   ]
  },
  {
   "cell_type": "markdown",
   "id": "e0426698",
   "metadata": {},
   "source": [
    "by normalizing the vector span the null of Q-I we get the following stationary probability vector"
   ]
  },
  {
   "cell_type": "code",
   "execution_count": 247,
   "id": "880296a4",
   "metadata": {
    "scrolled": true
   },
   "outputs": [
    {
     "data": {
      "text/plain": [
       "array([[0.02],\n",
       "       [0.02],\n",
       "       [0.02],\n",
       "       [0.02],\n",
       "       [0.02],\n",
       "       [0.02],\n",
       "       [0.02],\n",
       "       [0.02],\n",
       "       [0.02],\n",
       "       [0.02],\n",
       "       [0.02],\n",
       "       [0.02],\n",
       "       [0.02],\n",
       "       [0.02],\n",
       "       [0.02],\n",
       "       [0.02],\n",
       "       [0.02],\n",
       "       [0.02],\n",
       "       [0.02],\n",
       "       [0.02],\n",
       "       [0.02],\n",
       "       [0.02],\n",
       "       [0.02],\n",
       "       [0.02],\n",
       "       [0.02],\n",
       "       [0.02],\n",
       "       [0.02],\n",
       "       [0.02],\n",
       "       [0.02],\n",
       "       [0.02],\n",
       "       [0.02],\n",
       "       [0.02],\n",
       "       [0.02],\n",
       "       [0.02],\n",
       "       [0.02],\n",
       "       [0.02],\n",
       "       [0.02],\n",
       "       [0.02],\n",
       "       [0.02],\n",
       "       [0.02],\n",
       "       [0.02],\n",
       "       [0.02],\n",
       "       [0.02],\n",
       "       [0.02],\n",
       "       [0.02],\n",
       "       [0.02],\n",
       "       [0.02],\n",
       "       [0.02],\n",
       "       [0.02],\n",
       "       [0.02]])"
      ]
     },
     "execution_count": 247,
     "metadata": {},
     "output_type": "execute_result"
    }
   ],
   "source": [
    "M=abs(null_space(Q-np.eye(len(Q))))/sum(abs(null_space(Q-np.eye(len(Q))))) # stationary probability finding the null space of \"\n",
    "M"
   ]
  },
  {
   "cell_type": "markdown",
   "id": "4079148d",
   "metadata": {},
   "source": [
    "## 1.3"
   ]
  },
  {
   "cell_type": "code",
   "execution_count": 134,
   "id": "13d06d73",
   "metadata": {
    "scrolled": true
   },
   "outputs": [
    {
     "name": "stdout",
     "output_type": "stream",
     "text": [
      "eigenvalue are: [ 1.00000000e+00+0.j          8.20621432e-02+0.00739711j\n",
      "  8.20621432e-02-0.00739711j  7.12866911e-02+0.01823658j\n",
      "  7.12866911e-02-0.01823658j  6.23563919e-02+0.0097059j\n",
      "  6.23563919e-02-0.0097059j   5.63349873e-02+0.04065578j\n",
      "  5.63349873e-02-0.04065578j  4.35122166e-02+0.04195915j\n",
      "  4.35122166e-02-0.04195915j  3.50942666e-02+0.j\n",
      "  3.16714006e-02+0.05999966j  3.16714006e-02-0.05999966j\n",
      "  2.89698983e-02+0.j          2.33467979e-02+0.04282889j\n",
      "  2.33467979e-02-0.04282889j  1.81875802e-02+0.08003499j\n",
      "  1.81875802e-02-0.08003499j  9.48900006e-03+0.00441895j\n",
      "  9.48900006e-03-0.00441895j  3.15343954e-03+0.02885161j\n",
      "  3.15343954e-03-0.02885161j  7.34383722e-04+0.04709094j\n",
      "  7.34383722e-04-0.04709094j -3.09419672e-03+0.06927108j\n",
      " -3.09419672e-03-0.06927108j -8.47486674e-03+0.00277131j\n",
      " -8.47486674e-03-0.00277131j -1.14504342e-02+0.03962191j\n",
      " -1.14504342e-02-0.03962191j -1.41328722e-02+0.06850358j\n",
      " -1.41328722e-02-0.06850358j -2.26732308e-02+0.05771733j\n",
      " -2.26732308e-02-0.05771733j -3.08376539e-02+0.04219923j\n",
      " -3.08376539e-02-0.04219923j -3.81529585e-02+0.01798024j\n",
      " -3.81529585e-02-0.01798024j -4.61718218e-02+0.02460677j\n",
      " -4.61718218e-02-0.02460677j -4.89183273e-02+0.j\n",
      " -5.84921111e-02+0.01528106j -5.84921111e-02-0.01528106j\n",
      " -5.92200636e-02+0.03933736j -5.92200636e-02-0.03933736j\n",
      " -6.23019719e-02+0.05383932j -6.23019719e-02-0.05383932j\n",
      " -7.02857901e-02+0.02534328j -7.02857901e-02-0.02534328j]\n"
     ]
    }
   ],
   "source": [
    "print(f\"eigenvalue are: {-np.sort(-np.linalg.eig(Q)[0])}\") "
   ]
  },
  {
   "cell_type": "code",
   "execution_count": 135,
   "id": "662a9cac",
   "metadata": {
    "scrolled": false
   },
   "outputs": [
    {
     "name": "stdout",
     "output_type": "stream",
     "text": [
      " |eigenvalue value| : [1.         0.08239486 0.08239486 0.08234202 0.08234202 0.0820755\n",
      " 0.0820755  0.07471529 0.07471529 0.07358237 0.07358237 0.07109461\n",
      " 0.07109461 0.06994626 0.06994626 0.06947319 0.06947319 0.06934015\n",
      " 0.06934015 0.06784568 0.06784568 0.06310724 0.06310724 0.06201102\n",
      " 0.06201102 0.06045526 0.06045526 0.06044736 0.06044736 0.0523195\n",
      " 0.0523195  0.05226601 0.05226601 0.04891833 0.04877896 0.04877896\n",
      " 0.04709667 0.04709667 0.04217745 0.04217745 0.04124328 0.04124328\n",
      " 0.03509427 0.02902344 0.02902344 0.0289699  0.01046748 0.01046748\n",
      " 0.00891647 0.00891647]\n"
     ]
    }
   ],
   "source": [
    "print(f\" |eigenvalue value| : {-np.sort(-abs(np.linalg.eig(Q)[0]))}\")"
   ]
  },
  {
   "cell_type": "markdown",
   "id": "cab38831",
   "metadata": {},
   "source": [
    "Notice when we do $P\\lambda P^{-1}$= Q\n",
    "where $\\lambda$ is the diagonal matrix of eigen vector and P be the matrix of eigen vector\n",
    "\n",
    "hence\n",
    "\n",
    "$Q^n= P\\lambda^n P^{-1}$\n",
    "\n",
    "we will do so and check the result by taking $|| Q-P\\lambda P^{-1}||$ for our calculation"
   ]
  },
  {
   "cell_type": "code",
   "execution_count": 138,
   "id": "73f1939a",
   "metadata": {
    "scrolled": false
   },
   "outputs": [
    {
     "data": {
      "text/plain": [
       "7.542007914981792e-15"
      ]
     },
     "execution_count": 138,
     "metadata": {},
     "output_type": "execute_result"
    }
   ],
   "source": [
    "# check the diagonization of matrix Q\n",
    "\n",
    "check=np.dot(np.dot(np.linalg.eig(Q)[1],np.diag(np.linalg.eig(Q)[0])),np.linalg.inv(np.linalg.eig(Q)[1]))\n",
    "\n",
    "# error of the diagonization result with original matrix\n",
    "np.linalg.norm(check-Q)"
   ]
  },
  {
   "cell_type": "markdown",
   "id": "36e0ea15",
   "metadata": {},
   "source": [
    "## 1.4"
   ]
  },
  {
   "cell_type": "code",
   "execution_count": 206,
   "id": "627ec61b",
   "metadata": {},
   "outputs": [],
   "source": [
    "# calculate f_ijn= -log(|Q^n-M|)\n",
    "f_ijn=[-np.log(abs(np.linalg.matrix_power(Q,5*i)-M[0]))/(i*5) for i in range(1,201)]"
   ]
  },
  {
   "cell_type": "markdown",
   "id": "771085ea",
   "metadata": {},
   "source": [
    "as $n\\rightarrow \\infty$ ,  $L_{ij}=M_{j}=0.02$"
   ]
  },
  {
   "cell_type": "code",
   "execution_count": 207,
   "id": "d0107a8b",
   "metadata": {},
   "outputs": [],
   "source": [
    "X_11=[f_ijn[i][0][0] for i in range(len(f_ijn))]\n",
    "X_12=[f_ijn[i][0][1] for i in range(len(f_ijn))]\n",
    "X_13=[f_ijn[i][0][2] for i in range(len(f_ijn))]\n",
    "X_14=[f_ijn[i][0][3] for i in range(len(f_ijn))]\n",
    "X_15=[f_ijn[i][0][4] for i in range(len(f_ijn))]"
   ]
  },
  {
   "cell_type": "code",
   "execution_count": 208,
   "id": "a4434485",
   "metadata": {
    "scrolled": false
   },
   "outputs": [
    {
     "data": {
      "text/plain": [
       "Text(0, 0.5, 'f_ijn')"
      ]
     },
     "execution_count": 208,
     "metadata": {},
     "output_type": "execute_result"
    },
    {
     "data": {
      "image/png": "[encoded data removed]",
      "text/plain": [
       "<Figure size 1080x1080 with 5 Axes>"
      ]
     },
     "metadata": {
      "needs_background": "light"
     },
     "output_type": "display_data"
    }
   ],
   "source": [
    "plt.figure(figsize=(15,15), tight_layout=\"tight\")\n",
    "plt.subplot(3,2,1)\n",
    "plt.plot([5*i for i in range(200)],X_11)\n",
    "plt.title(\"Trajectory from 1 to 1 as Q increase\")\n",
    "plt.xlabel(\"n\")\n",
    "plt.ylabel(\"f_ijn\")\n",
    "\n",
    "\n",
    "plt.subplot(3,2,2)\n",
    "plt.plot([5*i for i in range(200)],X_12)\n",
    "plt.title(\"Trajectory from 1 to 2 as Q increase\")\n",
    "plt.xlabel(\"n\")\n",
    "plt.ylabel(\"f_ijn\")\n",
    "\n",
    "plt.subplot(3,2,3)\n",
    "plt.plot([5*i for i in range(200)],X_13)\n",
    "plt.title(\"Trajectory from 1 to 3 as Q increase\")\n",
    "plt.xlabel(\"n\")\n",
    "plt.ylabel(\"f_ijn\")\n",
    "\n",
    "\n",
    "plt.subplot(3,2,4)\n",
    "plt.plot([5*i for i in range(200)],X_14)\n",
    "plt.title(\"Trajectory from 1 to 4 as Q increase\")\n",
    "plt.xlabel(\"n\")\n",
    "plt.ylabel(\"f_ijn\")\n",
    "\n",
    "plt.subplot(3,2,5)\n",
    "plt.plot([5*i for i in range(200)],X_15)\n",
    "plt.title(\"Trajectory from 1 to 5 as Q increase\")\n",
    "plt.xlabel(\"n\")\n",
    "plt.ylabel(\"f_ijn\")"
   ]
  },
  {
   "cell_type": "markdown",
   "id": "799fdaaa",
   "metadata": {},
   "source": [
    "From these result, we can conclude that the gap are decaing at an exponential rate\n",
    "\n",
    "\n",
    "## 1.5"
   ]
  },
  {
   "cell_type": "code",
   "execution_count": 209,
   "id": "e68dc13b",
   "metadata": {},
   "outputs": [],
   "source": [
    "# initial probability vector\n",
    "\n",
    "P_xj= 1/50*np.ones(len(Q))\n",
    "trajectory=[]\n",
    "\n",
    "for i in range()"
   ]
  },
  {
   "cell_type": "code",
   "execution_count": null,
   "id": "c9bd527d",
   "metadata": {},
   "outputs": [],
   "source": []
  },
  {
   "cell_type": "code",
   "execution_count": null,
   "id": "6cb9e57c",
   "metadata": {},
   "outputs": [],
   "source": []
  },
  {
   "cell_type": "code",
   "execution_count": null,
   "id": "603dcab9",
   "metadata": {},
   "outputs": [],
   "source": []
  },
  {
   "cell_type": "code",
   "execution_count": null,
   "id": "b1c3a5ed",
   "metadata": {},
   "outputs": [],
   "source": []
  }
 ],
 "metadata": {
  "kernelspec": {
   "display_name": "Python 3 (ipykernel)",
   "language": "python",
   "name": "python3"
  },
  "language_info": {
   "codemirror_mode": {
    "name": "ipython",
    "version": 3
   },
   "file_extension": ".py",
   "mimetype": "text/x-python",
   "name": "python",
   "nbconvert_exporter": "python",
   "pygments_lexer": "ipython3",
   "version": "3.9.7"
  }
 },
 "nbformat": 4,
 "nbformat_minor": 5
}
